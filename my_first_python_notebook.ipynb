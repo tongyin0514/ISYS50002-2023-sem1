{
  "nbformat": 4,
  "nbformat_minor": 0,
  "metadata": {
    "colab": {
      "provenance": [],
      "authorship_tag": "ABX9TyPPRdQtt84nkI6i6kytFeWw",
      "include_colab_link": true
    },
    "kernelspec": {
      "name": "python3",
      "display_name": "Python 3"
    },
    "language_info": {
      "name": "python"
    }
  },
  "cells": [
    {
      "cell_type": "markdown",
      "metadata": {
        "id": "view-in-github",
        "colab_type": "text"
      },
      "source": [
        "<a href=\"https://colab.research.google.com/github/tongyin0514/ISYS50002-2023-sem1/blob/main/my_first_python_notebook.ipynb\" target=\"_parent\"><img src=\"https://colab.research.google.com/assets/colab-badge.svg\" alt=\"Open In Colab\"/></a>"
      ]
    },
    {
      "cell_type": "markdown",
      "source": [
        "# this is my first python notebook\n",
        "\n",
        "i will be using print function to display output."
      ],
      "metadata": {
        "id": "E84TqmJUhiz1"
      }
    },
    {
      "cell_type": "code",
      "source": [
        "# this is a comment\n",
        "# this is an expression\n",
        "1 + 1"
      ],
      "metadata": {
        "colab": {
          "base_uri": "https://localhost:8080/"
        },
        "id": "K8H2tAA_h-w2",
        "outputId": "bfa8b6b6-baba-4b97-bdf7-2ee6d94d9423"
      },
      "execution_count": 1,
      "outputs": [
        {
          "output_type": "execute_result",
          "data": {
            "text/plain": [
              "2"
            ]
          },
          "metadata": {},
          "execution_count": 1
        }
      ]
    },
    {
      "cell_type": "code",
      "source": [
        "print(\"hello rohini\")\n",
        "print('hello rohini 3')"
      ],
      "metadata": {
        "colab": {
          "base_uri": "https://localhost:8080/"
        },
        "id": "bZ8RgnjbiQtV",
        "outputId": "11e8f33e-c24a-4cb8-d522-08d389f61103"
      },
      "execution_count": 2,
      "outputs": [
        {
          "output_type": "stream",
          "name": "stdout",
          "text": [
            "hello rohini\n",
            "hello rohini 3\n"
          ]
        }
      ]
    },
    {
      "cell_type": "code",
      "source": [
        "print(1+1)\n",
        "print('1'+'1')"
      ],
      "metadata": {
        "colab": {
          "base_uri": "https://localhost:8080/"
        },
        "id": "lnVsIHvwi7Xm",
        "outputId": "42557eb9-1818-42b5-a9ca-f92b27a159c6"
      },
      "execution_count": 4,
      "outputs": [
        {
          "output_type": "stream",
          "name": "stdout",
          "text": [
            "2\n",
            "11\n"
          ]
        }
      ]
    },
    {
      "cell_type": "code",
      "source": [
        "print('hello sue')"
      ],
      "metadata": {
        "colab": {
          "base_uri": "https://localhost:8080/"
        },
        "id": "mI_hZqt2jRKu",
        "outputId": "ffd081ff-e9dd-4d71-844d-f75375775b7d"
      },
      "execution_count": 5,
      "outputs": [
        {
          "output_type": "stream",
          "name": "stdout",
          "text": [
            "hello sue\n"
          ]
        }
      ]
    },
    {
      "cell_type": "code",
      "source": [
        "input('please type your name:')"
      ],
      "metadata": {
        "colab": {
          "base_uri": "https://localhost:8080/",
          "height": 53
        },
        "id": "OV9vXHeJjZ8P",
        "outputId": "09781e29-96fa-45d7-9de2-43ee809ba21c"
      },
      "execution_count": 6,
      "outputs": [
        {
          "name": "stdout",
          "output_type": "stream",
          "text": [
            "please type your name:jimmy\n"
          ]
        },
        {
          "output_type": "execute_result",
          "data": {
            "text/plain": [
              "'jimmy'"
            ],
            "application/vnd.google.colaboratory.intrinsic+json": {
              "type": "string"
            }
          },
          "metadata": {},
          "execution_count": 6
        }
      ]
    },
    {
      "cell_type": "code",
      "source": [
        "print('hello',input('please type your name:'))"
      ],
      "metadata": {
        "colab": {
          "base_uri": "https://localhost:8080/"
        },
        "id": "LxMtq4NsjzNW",
        "outputId": "89d52af1-c5ad-415a-814b-f63b1bd7c45c"
      },
      "execution_count": 7,
      "outputs": [
        {
          "output_type": "stream",
          "name": "stdout",
          "text": [
            "please type your name:jimmy\n",
            "hello jimmy\n"
          ]
        }
      ]
    },
    {
      "cell_type": "code",
      "source": [
        "name = input(\"please type your name:\")\n",
        "print(\"hello\", name + \" welcome to python programming\")"
      ],
      "metadata": {
        "colab": {
          "base_uri": "https://localhost:8080/"
        },
        "id": "VrXBSZuKlpX2",
        "outputId": "148ab22a-ada8-4126-81a7-f120910bea78"
      },
      "execution_count": 10,
      "outputs": [
        {
          "output_type": "stream",
          "name": "stdout",
          "text": [
            "please type your name:jimmy\n",
            "hello jimmy welcome to python programming\n"
          ]
        }
      ]
    }
  ]
}