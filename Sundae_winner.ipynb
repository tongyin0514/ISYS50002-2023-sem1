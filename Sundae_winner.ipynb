{
  "nbformat": 4,
  "nbformat_minor": 0,
  "metadata": {
    "colab": {
      "provenance": [],
      "authorship_tag": "ABX9TyNAMpC/GVg4UaE9CDNlz+Ow",
      "include_colab_link": true
    },
    "kernelspec": {
      "name": "python3",
      "display_name": "Python 3"
    },
    "language_info": {
      "name": "python"
    }
  },
  "cells": [
    {
      "cell_type": "markdown",
      "metadata": {
        "id": "view-in-github",
        "colab_type": "text"
      },
      "source": [
        "<a href=\"https://colab.research.google.com/github/tongyin0514/ISYS50002-2023-sem1/blob/main/Sundae_winner.ipynb\" target=\"_parent\"><img src=\"https://colab.research.google.com/assets/colab-badge.svg\" alt=\"Open In Colab\"/></a>"
      ]
    },
    {
      "cell_type": "code",
      "execution_count": null,
      "metadata": {
        "id": "6N_QuYbt41Qs"
      },
      "outputs": [],
      "source": [
        "customers = ['Jimmy', 'Kim', 'John', 'Stacie'] #This means customers are these four persons."
      ]
    },
    {
      "cell_type": "code",
      "source": [
        "winner = random.choice(customers) #This means one of cutomers will be selected randomly out as the winner."
      ],
      "metadata": {
        "id": "GN0_rctG5K0D"
      },
      "execution_count": null,
      "outputs": []
    },
    {
      "cell_type": "code",
      "source": [
        "flavor = 'vanilla' #The flavor is only vanilla."
      ],
      "metadata": {
        "id": "srgCvFXJ5PxY"
      },
      "execution_count": null,
      "outputs": []
    },
    {
      "cell_type": "code",
      "source": [
        "print('Congratulations ' + winner + ' you have won an ice cream sundae!') #This will be a result printed out."
      ],
      "metadata": {
        "id": "YnOQyNbD5S8k"
      },
      "execution_count": null,
      "outputs": []
    },
    {
      "cell_type": "code",
      "source": [
        "prompt = 'Would you like a cherry on top? ' #It is a question and we can input the answer of the question."
      ],
      "metadata": {
        "id": "7w1fZlO05Yvm"
      },
      "execution_count": null,
      "outputs": []
    },
    {
      "cell_type": "code",
      "source": [
        "wants_cherry = input(prompt) #It is variable, when the input things changes, it changes."
      ],
      "metadata": {
        "id": "HUb1bvgb5d2E"
      },
      "execution_count": null,
      "outputs": []
    },
    {
      "cell_type": "code",
      "source": [
        "order = flavor + ' sundae ' #This is a definition of order"
      ],
      "metadata": {
        "id": "ccTS8e1z5fnv"
      },
      "execution_count": null,
      "outputs": []
    },
    {
      "cell_type": "code",
      "source": [
        "if (wants_cherry == 'yes'):\n",
        " order = order + ' with a cherry on top' #When the condition meets, the definition is given."
      ],
      "metadata": {
        "id": "YP0TPKc95h4d"
      },
      "execution_count": null,
      "outputs": []
    },
    {
      "cell_type": "code",
      "source": [
        "print('One ' + order + ' for ' + winner + ' coming right up...') #It is the final line of this program."
      ],
      "metadata": {
        "id": "tl9k1LMX5nW-"
      },
      "execution_count": null,
      "outputs": []
    },
    {
      "cell_type": "code",
      "source": [
        "customers = ['Jimmy', 'Kim', 'John', 'Stacie']\n",
        "import random #Remember import random module before use random.\n",
        "winner = random.choice(customers)\n",
        "flavor = 'vanilla'\n",
        "print('Congratulations ' + winner + ' you have won an ice cream sundae!')\n",
        "prompt = 'Would you like a cherry on top? '\n",
        "wants_cherry = input(prompt)\n",
        "order = flavor + ' sundae '\n",
        "if (wants_cherry == 'yes'):\n",
        " order = order + ' with a cherry on top'\n",
        "print('One ' + order + ' for ' + winner + ' coming right up...')"
      ],
      "metadata": {
        "colab": {
          "base_uri": "https://localhost:8080/"
        },
        "id": "InH25pfz8SiO",
        "outputId": "326f73f8-9151-4ca3-b903-58a624a3d6b0"
      },
      "execution_count": 4,
      "outputs": [
        {
          "output_type": "stream",
          "name": "stdout",
          "text": [
            "Congratulations Jimmy you have won an ice cream sundae!\n",
            "Would you like a cherry on top? yes\n",
            "One vanilla sundae  with a cherry on top for Jimmy coming right up...\n"
          ]
        }
      ]
    }
  ]
}