{
  "nbformat": 4,
  "nbformat_minor": 0,
  "metadata": {
    "colab": {
      "provenance": [],
      "authorship_tag": "ABX9TyO9/LkGMubr/IcRnhd06Gzj",
      "include_colab_link": true
    },
    "kernelspec": {
      "name": "python3",
      "display_name": "Python 3"
    },
    "language_info": {
      "name": "python"
    }
  },
  "cells": [
    {
      "cell_type": "markdown",
      "metadata": {
        "id": "view-in-github",
        "colab_type": "text"
      },
      "source": [
        "<a href=\"https://colab.research.google.com/github/tongyin0514/ISYS50002-2023-sem1/blob/main/Code_Magnet_Worksheet.ipynb\" target=\"_parent\"><img src=\"https://colab.research.google.com/assets/colab-badge.svg\" alt=\"Open In Colab\"/></a>"
      ]
    },
    {
      "cell_type": "code",
      "execution_count": null,
      "metadata": {
        "id": "mBHOzJRB2c3t"
      },
      "outputs": [],
      "source": [
        "Crack three eggs into bowl #this is the first step to make egg omelet\n",
        "While eggs aren’t fully mixed\n",
        "Whip eggs\n",
        "Transfer eggs to pan\n",
        "Heat saute pan #some cook often heat the pan before whip the eggs but it is not so safe\n",
        "While eggs aren’t fully cooked\n",
        "Stir eggs\n",
        "Remove pan from heat #to be safe cooking, it is better to turn off the heater first\n",
        "Transfer eggs to plate\n",
        "If the customer ordered cheese\n",
        "Add cheese on top\n",
        "Serve"
      ]
    },
    {
      "cell_type": "markdown",
      "source": [],
      "metadata": {
        "id": "hrji431F2oFb"
      }
    }
  ]
}